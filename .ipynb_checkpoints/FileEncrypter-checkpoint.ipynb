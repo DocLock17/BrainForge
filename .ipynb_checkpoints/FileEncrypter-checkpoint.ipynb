{
 "cells": [
  {
   "cell_type": "code",
   "execution_count": 7,
   "id": "41b0901f",
   "metadata": {},
   "outputs": [
    {
     "name": "stdout",
     "output_type": "stream",
     "text": [
      "Defaulting to user installation because normal site-packages is not writeable\n",
      "Collecting pycryptodome\n",
      "  Downloading pycryptodome-3.15.0-cp35-abi3-manylinux2010_x86_64.whl (2.3 MB)\n",
      "\u001b[2K     \u001b[90m━━━━━━━━━━━━━━━━━━━━━━━━━━━━━━━━━━━━━━━━\u001b[0m \u001b[32m2.3/2.3 MB\u001b[0m \u001b[31m8.8 MB/s\u001b[0m eta \u001b[36m0:00:00\u001b[0ma \u001b[36m0:00:01\u001b[0m\n",
      "\u001b[?25hInstalling collected packages: pycryptodome\n",
      "Successfully installed pycryptodome-3.15.0\n"
     ]
    }
   ],
   "source": [
    "#!pip install pycryptodome"
   ]
  },
  {
   "cell_type": "code",
   "execution_count": 8,
   "id": "a59b385a-4bf6-4407-ae45-c5715bed2b5a",
   "metadata": {},
   "outputs": [],
   "source": [
    "import base64\n",
    "from Crypto.Cipher import AES\n",
    "from Crypto.Hash import SHA256\n",
    "from Crypto import Random\n",
    "\n",
    "def encrypt(key, source, encode=True):\n",
    "    key = SHA256.new(key).digest()  # use SHA-256 over our key to get a proper-sized AES key\n",
    "    IV = Random.new().read(AES.block_size)  # generate IV\n",
    "    encryptor = AES.new(key, AES.MODE_CBC, IV)\n",
    "    padding = AES.block_size - len(source) % AES.block_size  # calculate needed padding\n",
    "    source += bytes([padding]) * padding  # Python 2.x: source += chr(padding) * padding\n",
    "    data = IV + encryptor.encrypt(source)  # store the IV at the beginning and encrypt\n",
    "    return base64.b64encode(data).decode(\"latin-1\") if encode else data\n",
    "\n",
    "def decrypt(key, source, decode=True):\n",
    "    if decode:\n",
    "        source = base64.b64decode(source.encode(\"latin-1\"))\n",
    "    key = SHA256.new(key).digest()  # use SHA-256 over our key to get a proper-sized AES key\n",
    "    IV = source[:AES.block_size]  # extract the IV from the beginning\n",
    "    decryptor = AES.new(key, AES.MODE_CBC, IV)\n",
    "    data = decryptor.decrypt(source[AES.block_size:])  # decrypt\n",
    "    padding = data[-1]  # pick the padding value from the end; Python 2.x: ord(data[-1])\n",
    "    if data[-padding:] != bytes([padding]) * padding:  # Python 2.x: chr(padding) * padding\n",
    "        raise ValueError(\"Invalid padding...\")\n",
    "    return data[:-padding]  # remove the padding\n",
    "\n",
    "def encrypt_file(password, file_name):\n",
    "    e =[]\n",
    "    r = open(file_name, \"r\")\n",
    "    for line in r:\n",
    "        e.append(encrypt(bytes(password, 'utf-8'), bytes(line,'utf-8'), encode=True))\n",
    "    r.close()\n",
    "    w = open(file_name, \"w\")\n",
    "    for each in e:\n",
    "        w.write(each + \"\\n\")\n",
    "    w.close()\n",
    "\n",
    "def decrypt_file(password, file_name):\n",
    "    d =[]\n",
    "    r = open(file_name, \"r\")\n",
    "    for line in r:\n",
    "        d.append(decrypt(bytes(password, 'utf-8'), line, decode=True))\n",
    "    r.close()\n",
    "    w = open(file_name, \"w\")\n",
    "    for each in d:\n",
    "        w.write(each.decode(\"utf-8\"))\n",
    "    w.close()"
   ]
  },
  {
   "cell_type": "code",
   "execution_count": null,
   "id": "e9beac91",
   "metadata": {},
   "outputs": [],
   "source": [
    "encrypt_file(input(\"Encryption Key: \"), input(\"File Name: \"))"
   ]
  },
  {
   "cell_type": "code",
   "execution_count": null,
   "id": "89b4b531-fabd-4cc8-aece-e9ec9432250e",
   "metadata": {},
   "outputs": [],
   "source": []
  },
  {
   "cell_type": "code",
   "execution_count": null,
   "id": "1630a715",
   "metadata": {},
   "outputs": [],
   "source": [
    "decrypt_file(input(\"Encryption Key: \"), input(\"File Name: \"))"
   ]
  },
  {
   "cell_type": "code",
   "execution_count": null,
   "id": "b8a26722",
   "metadata": {},
   "outputs": [],
   "source": []
  }
 ],
 "metadata": {
  "kernelspec": {
   "display_name": "Python 3 (ipykernel)",
   "language": "python",
   "name": "python3"
  },
  "language_info": {
   "codemirror_mode": {
    "name": "ipython",
    "version": 3
   },
   "file_extension": ".py",
   "mimetype": "text/x-python",
   "name": "python",
   "nbconvert_exporter": "python",
   "pygments_lexer": "ipython3",
   "version": "3.10.4"
  }
 },
 "nbformat": 4,
 "nbformat_minor": 5
}
